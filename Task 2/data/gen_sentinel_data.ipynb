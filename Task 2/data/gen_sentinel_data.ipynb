{
 "cells": [
  {
   "cell_type": "code",
   "execution_count": 9,
   "metadata": {},
   "outputs": [],
   "source": [
    "import requests\n",
    "from oauthlib.oauth2 import BackendApplicationClient\n",
    "from requests_oauthlib import OAuth2Session\n",
    "import matplotlib.pyplot as plt"
   ]
  },
  {
   "cell_type": "code",
   "execution_count": 10,
   "metadata": {},
   "outputs": [],
   "source": [
    "import requests\n",
    "\n",
    "response = requests.post('https://services.sentinel-hub.com/api/v1/process',\n",
    "  headers={\"Authorization\" : \"Bearer Ysz7r6YEWe9jR9v8xfR87MfP2DboLbatKZQvj7gH\"},\n",
    "  json={\n",
    "    \"input\": {\n",
    "        \"bounds\": {\n",
    "            \"bbox\": [\n",
    "                13.822174072265625,\n",
    "                45.85080395917834,\n",
    "                14.55963134765625,\n",
    "                46.29191774991382\n",
    "            ]\n",
    "        },\n",
    "        \"data\": [{\n",
    "            \"type\": \"sentinel-2-l2a\"\n",
    "        }]\n",
    "    },\n",
    "    \"evalscript\": \"\"\"\n",
    "    //VERSION=3\n",
    "\n",
    "    function setup() {\n",
    "      return {\n",
    "        input: [\"B02\", \"B03\", \"B04\"],\n",
    "        output: {\n",
    "          bands: 3\n",
    "        }\n",
    "      };\n",
    "    }\n",
    "\n",
    "    function evaluatePixel(\n",
    "      sample,\n",
    "      scenes,\n",
    "      inputMetadata,\n",
    "      customData,\n",
    "      outputMetadata\n",
    "    ) {\n",
    "      return [2.5 * sample.B04, 2.5 * sample.B03, 2.5 * sample.B02];\n",
    "    }\n",
    "    \"\"\"\n",
    "})\n"
   ]
  },
  {
   "cell_type": "code",
   "execution_count": 11,
   "metadata": {},
   "outputs": [
    {
     "data": {
      "text/plain": [
       "<Response [500]>"
      ]
     },
     "execution_count": 11,
     "metadata": {},
     "output_type": "execute_result"
    }
   ],
   "source": [
    "response"
   ]
  },
  {
   "cell_type": "markdown",
   "metadata": {},
   "source": [
    "# Sentinel data "
   ]
  },
  {
   "cell_type": "code",
   "execution_count": 13,
   "metadata": {},
   "outputs": [],
   "source": [
    "def initiate_session(credentials, secret_key):\n",
    "    '''\n",
    "        Function extracts token and oauth session\n",
    "    '''\n",
    "    # Your client credentials\n",
    "    client_id = str(credentials)\n",
    "    client_secret = secret_key\n",
    "\n",
    "    # Create a session\n",
    "    client = BackendApplicationClient(client_id=client_id)\n",
    "    oauth = OAuth2Session(client=client)\n",
    "\n",
    "    # Get token for the session\n",
    "    token = oauth.fetch_token(token_url='https://services.sentinel-hub.com/oauth/token',\n",
    "                            client_secret=client_secret, include_client_id=True)\n",
    "\n",
    "    # All requests using this session will have an access token automatically added\n",
    "    resp = oauth.get(\"https://services.sentinel-hub.com/oauth/tokeninfo\")\n",
    "\n",
    "    return oauth, token"
   ]
  },
  {
   "cell_type": "code",
   "execution_count": 14,
   "metadata": {},
   "outputs": [],
   "source": [
    "session, token = initiate_session(credentials='346b2b14-0b2e-4f74-bd56-953f0a7cf073', secret_key='Ysz7r6YEWe9jR9v8xfR87MfP2DboLbatKZQvj7gH')"
   ]
  },
  {
   "cell_type": "code",
   "execution_count": 15,
   "metadata": {},
   "outputs": [],
   "source": [
    "def get_image(session: OAuth2Session, token=None):\n",
    "    \n",
    "    data = session.post(\n",
    "        'https://services.sentinel-hub.com/api/v1/process',\n",
    "        json={\n",
    "                \"input\": {\n",
    "                    \"bounds\": {\n",
    "                        \"properties\": {\n",
    "                            \"crs\": \"http://www.opengis.net/def/crs/OGC/1.3/CRS84\"\n",
    "                        },\n",
    "                        \"bbox\": [\n",
    "                            13.822174072265625,\n",
    "                            45.85080395917834,\n",
    "                            14.55963134765625,\n",
    "                            46.29191774991382\n",
    "                        ]\n",
    "                    },\n",
    "                    \"data\": [\n",
    "                        {\n",
    "                            \"type\": \"sentinel-2-l2a\",\n",
    "                            \"dataFilter\": {\n",
    "                                \"timeRange\": {\n",
    "                                    \"from\": \"2022-10-01T00:00:00Z\",\n",
    "                                    \"to\": \"2022-10-31T00:00:00Z\"\n",
    "                                }\n",
    "                            }\n",
    "                        }\n",
    "                    ]\n",
    "                },\n",
    "                \"output\": {\n",
    "                    \"width\": 512,\n",
    "                    \"height\": 512\n",
    "                }\n",
    "            })\n",
    "    \n",
    "    return data"
   ]
  },
  {
   "cell_type": "code",
   "execution_count": 16,
   "metadata": {},
   "outputs": [],
   "source": [
    "result = get_image(session=session, token=token)"
   ]
  },
  {
   "cell_type": "code",
   "execution_count": 17,
   "metadata": {},
   "outputs": [
    {
     "data": {
      "text/plain": [
       "<Response [400]>"
      ]
     },
     "execution_count": 17,
     "metadata": {},
     "output_type": "execute_result"
    }
   ],
   "source": [
    "result"
   ]
  },
  {
   "cell_type": "code",
   "execution_count": null,
   "metadata": {},
   "outputs": [],
   "source": []
  }
 ],
 "metadata": {
  "kernelspec": {
   "display_name": "Python 3",
   "language": "python",
   "name": "python3"
  },
  "language_info": {
   "codemirror_mode": {
    "name": "ipython",
    "version": 3
   },
   "file_extension": ".py",
   "mimetype": "text/x-python",
   "name": "python",
   "nbconvert_exporter": "python",
   "pygments_lexer": "ipython3",
   "version": "3.9.16"
  }
 },
 "nbformat": 4,
 "nbformat_minor": 2
}
