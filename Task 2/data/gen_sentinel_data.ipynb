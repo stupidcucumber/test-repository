{
 "cells": [
  {
   "cell_type": "code",
   "execution_count": 1,
   "metadata": {},
   "outputs": [],
   "source": [
    "import requests\n",
    "from oauthlib.oauth2 import BackendApplicationClient\n",
    "from requests_oauthlib import OAuth2Session\n",
    "import matplotlib.pyplot as plt"
   ]
  },
  {
   "cell_type": "markdown",
   "metadata": {},
   "source": [
    "# Sentinel data "
   ]
  },
  {
   "cell_type": "code",
   "execution_count": 2,
   "metadata": {},
   "outputs": [],
   "source": [
    "def initiate_session(credentials, secret_key):\n",
    "    '''\n",
    "        Function extracts token and oauth session\n",
    "    '''\n",
    "    # Your client credentials\n",
    "    client_id = str(credentials)\n",
    "    client_secret = secret_key\n",
    "\n",
    "    # Create a session\n",
    "    client = BackendApplicationClient(client_id=client_id)\n",
    "    oauth = OAuth2Session(client=client)\n",
    "\n",
    "    # Get token for the session\n",
    "    token = oauth.fetch_token(token_url='https://services.sentinel-hub.com/oauth/token',\n",
    "                            client_secret=client_secret, include_client_id=True)\n",
    "\n",
    "    # All requests using this session will have an access token automatically added\n",
    "    resp = oauth.get(\"https://services.sentinel-hub.com/oauth/tokeninfo\")\n",
    "\n",
    "    return oauth, token"
   ]
  },
  {
   "cell_type": "code",
   "execution_count": 3,
   "metadata": {},
   "outputs": [],
   "source": [
    "result = initiate_session(credentials='346b2b14-0b2e-4f74-bd56-953f0a7cf073', secret_key='Ysz7r6YEWe9jR9v8xfR87MfP2DboLbatKZQvj7gH')"
   ]
  },
  {
   "cell_type": "code",
   "execution_count": null,
   "metadata": {},
   "outputs": [],
   "source": [
    "def get_image(session: OAuth2Session, token=None):\n",
    "    \n",
    "    data = session.get()"
   ]
  }
 ],
 "metadata": {
  "kernelspec": {
   "display_name": "Python 3",
   "language": "python",
   "name": "python3"
  },
  "language_info": {
   "codemirror_mode": {
    "name": "ipython",
    "version": 3
   },
   "file_extension": ".py",
   "mimetype": "text/x-python",
   "name": "python",
   "nbconvert_exporter": "python",
   "pygments_lexer": "ipython3",
   "version": "3.9.16"
  }
 },
 "nbformat": 4,
 "nbformat_minor": 2
}
