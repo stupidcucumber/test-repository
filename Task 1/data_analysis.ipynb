{
 "cells": [
  {
   "cell_type": "code",
   "execution_count": 16,
   "metadata": {},
   "outputs": [],
   "source": [
    "import pandas as pd\n",
    "import numpy as np\n",
    "import matplotlib.pyplot as plt\n",
    "from ast import literal_eval"
   ]
  },
  {
   "cell_type": "markdown",
   "metadata": {},
   "source": [
    "# This notebook is for analysation of generated dataset"
   ]
  },
  {
   "cell_type": "code",
   "execution_count": 5,
   "metadata": {},
   "outputs": [],
   "source": [
    "data = pd.read_csv('./data/data_with_tags/fine-tune-test-data-test-2.csv', converters={'tags': literal_eval}) # Loading current dataset"
   ]
  },
  {
   "cell_type": "code",
   "execution_count": 6,
   "metadata": {},
   "outputs": [
    {
     "data": {
      "text/html": [
       "<div>\n",
       "<style scoped>\n",
       "    .dataframe tbody tr th:only-of-type {\n",
       "        vertical-align: middle;\n",
       "    }\n",
       "\n",
       "    .dataframe tbody tr th {\n",
       "        vertical-align: top;\n",
       "    }\n",
       "\n",
       "    .dataframe thead th {\n",
       "        text-align: right;\n",
       "    }\n",
       "</style>\n",
       "<table border=\"1\" class=\"dataframe\">\n",
       "  <thead>\n",
       "    <tr style=\"text-align: right;\">\n",
       "      <th></th>\n",
       "      <th>names</th>\n",
       "      <th>sentence</th>\n",
       "      <th>tags</th>\n",
       "      <th>source</th>\n",
       "    </tr>\n",
       "  </thead>\n",
       "  <tbody>\n",
       "    <tr>\n",
       "      <th>0</th>\n",
       "      <td>['Appalachian Mountains', 'Great Smoky Mountai...</td>\n",
       "      <td>The Appalachian Mountains, stretching across t...</td>\n",
       "      <td>[O, B-mount, I-mount, O, O, O, O, O, O, O, O, ...</td>\n",
       "      <td>HUMAN</td>\n",
       "    </tr>\n",
       "    <tr>\n",
       "      <th>1</th>\n",
       "      <td>['Tien Shan Range', 'Celestial Mountains', 'Kh...</td>\n",
       "      <td>The Tien Shan Range in Central Asia, known as ...</td>\n",
       "      <td>[O, B-mount, I-mount, I-mount, O, O, O, O, O, ...</td>\n",
       "      <td>HUMAN</td>\n",
       "    </tr>\n",
       "    <tr>\n",
       "      <th>2</th>\n",
       "      <td>['Drakensberg Mountains']</td>\n",
       "      <td>South Africa's Drakensberg Mountains, with its...</td>\n",
       "      <td>[O, O, O, B-mount, I-mount, O, O, O, O, O, O, ...</td>\n",
       "      <td>HUMAN</td>\n",
       "    </tr>\n",
       "    <tr>\n",
       "      <th>3</th>\n",
       "      <td>['Hotakadake', 'Yarigatake', 'Southern Alps']</td>\n",
       "      <td>The Southern Alps of Japan, including the Hota...</td>\n",
       "      <td>[O, B-mount, I-mount, O, O, O, O, O, B-mount, ...</td>\n",
       "      <td>HUMAN</td>\n",
       "    </tr>\n",
       "    <tr>\n",
       "      <th>4</th>\n",
       "      <td>['Rocky Mountains', 'Banff', 'Mount Robson']</td>\n",
       "      <td>The Rocky Mountains in Canada showcase the stu...</td>\n",
       "      <td>[O, B-mount, I-mount, O, O, O, O, O, O, O, B-m...</td>\n",
       "      <td>HUMAN</td>\n",
       "    </tr>\n",
       "    <tr>\n",
       "      <th>...</th>\n",
       "      <td>...</td>\n",
       "      <td>...</td>\n",
       "      <td>...</td>\n",
       "      <td>...</td>\n",
       "    </tr>\n",
       "    <tr>\n",
       "      <th>266</th>\n",
       "      <td>['Mount Abao', \"Pigne d'Arolla\"]</td>\n",
       "      <td>The rugged peaks of Mount Abao and Pigne d'Aro...</td>\n",
       "      <td>[O, O, O, O, B-mount, I-mount, O, B-mount, I-m...</td>\n",
       "      <td>GPT</td>\n",
       "    </tr>\n",
       "    <tr>\n",
       "      <th>267</th>\n",
       "      <td>['Marmolejo', 'Makra Peak']</td>\n",
       "      <td>The majestic heights of Marmolejo and Makra Pe...</td>\n",
       "      <td>[O, O, O, O, B-mount, O, B-mount, I-mount, O, ...</td>\n",
       "      <td>GPT</td>\n",
       "    </tr>\n",
       "    <tr>\n",
       "      <th>268</th>\n",
       "      <td>['Mount Bierstadt']</td>\n",
       "      <td>Mount Bierstadt rises proudly, its rocky slope...</td>\n",
       "      <td>[B-mount, I-mount, O, O, O, O, O, O, O, O, O, ...</td>\n",
       "      <td>GPT</td>\n",
       "    </tr>\n",
       "    <tr>\n",
       "      <th>269</th>\n",
       "      <td>['Raynolds Peak']</td>\n",
       "      <td>Raynolds Peak looms in the distance, its cragg...</td>\n",
       "      <td>[B-mount, I-mount, O, O, O, O, O, O, O, O, O, ...</td>\n",
       "      <td>GPT</td>\n",
       "    </tr>\n",
       "    <tr>\n",
       "      <th>270</th>\n",
       "      <td>['Mount Redoubt']</td>\n",
       "      <td>The volcanic slopes of Mount Redoubt are cloak...</td>\n",
       "      <td>[O, O, O, O, B-mount, I-mount, O, O, O, O, O, ...</td>\n",
       "      <td>GPT</td>\n",
       "    </tr>\n",
       "  </tbody>\n",
       "</table>\n",
       "<p>271 rows × 4 columns</p>\n",
       "</div>"
      ],
      "text/plain": [
       "                                                 names  \\\n",
       "0    ['Appalachian Mountains', 'Great Smoky Mountai...   \n",
       "1    ['Tien Shan Range', 'Celestial Mountains', 'Kh...   \n",
       "2                            ['Drakensberg Mountains']   \n",
       "3        ['Hotakadake', 'Yarigatake', 'Southern Alps']   \n",
       "4         ['Rocky Mountains', 'Banff', 'Mount Robson']   \n",
       "..                                                 ...   \n",
       "266                   ['Mount Abao', \"Pigne d'Arolla\"]   \n",
       "267                        ['Marmolejo', 'Makra Peak']   \n",
       "268                                ['Mount Bierstadt']   \n",
       "269                                  ['Raynolds Peak']   \n",
       "270                                  ['Mount Redoubt']   \n",
       "\n",
       "                                              sentence  \\\n",
       "0    The Appalachian Mountains, stretching across t...   \n",
       "1    The Tien Shan Range in Central Asia, known as ...   \n",
       "2    South Africa's Drakensberg Mountains, with its...   \n",
       "3    The Southern Alps of Japan, including the Hota...   \n",
       "4    The Rocky Mountains in Canada showcase the stu...   \n",
       "..                                                 ...   \n",
       "266  The rugged peaks of Mount Abao and Pigne d'Aro...   \n",
       "267  The majestic heights of Marmolejo and Makra Pe...   \n",
       "268  Mount Bierstadt rises proudly, its rocky slope...   \n",
       "269  Raynolds Peak looms in the distance, its cragg...   \n",
       "270  The volcanic slopes of Mount Redoubt are cloak...   \n",
       "\n",
       "                                                  tags source  \n",
       "0    [O, B-mount, I-mount, O, O, O, O, O, O, O, O, ...  HUMAN  \n",
       "1    [O, B-mount, I-mount, I-mount, O, O, O, O, O, ...  HUMAN  \n",
       "2    [O, O, O, B-mount, I-mount, O, O, O, O, O, O, ...  HUMAN  \n",
       "3    [O, B-mount, I-mount, O, O, O, O, O, B-mount, ...  HUMAN  \n",
       "4    [O, B-mount, I-mount, O, O, O, O, O, O, O, B-m...  HUMAN  \n",
       "..                                                 ...    ...  \n",
       "266  [O, O, O, O, B-mount, I-mount, O, B-mount, I-m...    GPT  \n",
       "267  [O, O, O, O, B-mount, O, B-mount, I-mount, O, ...    GPT  \n",
       "268  [B-mount, I-mount, O, O, O, O, O, O, O, O, O, ...    GPT  \n",
       "269  [B-mount, I-mount, O, O, O, O, O, O, O, O, O, ...    GPT  \n",
       "270  [O, O, O, O, B-mount, I-mount, O, O, O, O, O, ...    GPT  \n",
       "\n",
       "[271 rows x 4 columns]"
      ]
     },
     "execution_count": 6,
     "metadata": {},
     "output_type": "execute_result"
    }
   ],
   "source": [
    "data"
   ]
  },
  {
   "cell_type": "markdown",
   "metadata": {},
   "source": [
    "## Number of Tokens"
   ]
  },
  {
   "cell_type": "markdown",
   "metadata": {},
   "source": [
    "In this section I will analyse the number of tokens dataset contains"
   ]
  },
  {
   "cell_type": "code",
   "execution_count": 11,
   "metadata": {},
   "outputs": [],
   "source": [
    "unique_tags = set()\n",
    "for index in range(len(data)):\n",
    "    temp = set(data.iloc[index]['tags'])\n",
    "    unique_tags = unique_tags.union(temp)"
   ]
  },
  {
   "cell_type": "code",
   "execution_count": 28,
   "metadata": {},
   "outputs": [
    {
     "data": {
      "text/plain": [
       "<BarContainer object of 3 artists>"
      ]
     },
     "execution_count": 28,
     "metadata": {},
     "output_type": "execute_result"
    },
    {
     "data": {
      "image/png": "[encoded data removed]",
      "text/plain": [
       "<Figure size 640x480 with 1 Axes>"
      ]
     },
     "metadata": {},
     "output_type": "display_data"
    }
   ],
   "source": [
    "quantity_dict = {key: 0 for key in unique_tags}\n",
    "for entry in data['tags']:\n",
    "    for tag in entry:\n",
    "        quantity_dict[tag] += 1\n",
    "\n",
    "plt.bar(quantity_dict.keys(), list(quantity_dict.values()), .8)"
   ]
  },
  {
   "cell_type": "code",
   "execution_count": 44,
   "metadata": {},
   "outputs": [
    {
     "name": "stdout",
     "output_type": "stream",
     "text": [
      "{'O': [2376, 2317], 'I-mount': [126, 289], 'B-mount': [163, 270]}\n"
     ]
    },
    {
     "data": {
      "image/png": "[encoded data removed]",
      "text/plain": [
       "<Figure size 640x480 with 1 Axes>"
      ]
     },
     "metadata": {},
     "output_type": "display_data"
    }
   ],
   "source": [
    "quantity_dict_human = {key: 0 for key in unique_tags}\n",
    "quantity_dict_gpt = {key: 0 for key in unique_tags}\n",
    "\n",
    "human_data = data[data['source'] == 'HUMAN']\n",
    "for entry in human_data['tags']:\n",
    "    for tag in entry:\n",
    "        quantity_dict_human[tag] += 1\n",
    "\n",
    "gpt_data = data[data['source'] == 'GPT']\n",
    "for entry in gpt_data['tags']:\n",
    "    for tag in entry:\n",
    "        quantity_dict_gpt[tag] += 1\n",
    "\n",
    "quantity_dict = {key: [] for key in unique_tags}\n",
    "for key, value in quantity_dict_human.items():\n",
    "    quantity_dict[key].append(value)\n",
    "\n",
    "for key, value in quantity_dict_gpt.items():\n",
    "    quantity_dict[key].append(value)\n",
    "\n",
    "print(quantity_dict)\n",
    "\n",
    "figure, axes = plt.subplots(layout='constrained')\n",
    "indeces = np.arange(2)\n",
    "x = 0\n",
    "width = 0.25\n",
    "for tag, quantity in quantity_dict.items():\n",
    "    offset = x * width\n",
    "    axes.bar(indeces + offset, quantity, width)\n",
    "    x += 1\n",
    "axes.set_ylabel('Number of Tokens')\n",
    "axes.set_xticks(indeces + width, ['GPT', 'HUMAN'])\n",
    "axes.legend(unique_tags)\n",
    "plt.show() "
   ]
  },
  {
   "cell_type": "code",
   "execution_count": 30,
   "metadata": {},
   "outputs": [
    {
     "data": {
      "image/png": "[encoded data removed]",
      "text/plain": [
       "<Figure size 640x480 with 1 Axes>"
      ]
     },
     "metadata": {},
     "output_type": "display_data"
    }
   ],
   "source": [
    "species = (\"Adelie\", \"Chinstrap\", \"Gentoo\")\n",
    "penguin_means = {\n",
    "    'Bill Depth': (18.35, 18.43, 14.98),\n",
    "    'Bill Length': (38.79, 48.83, 47.50),\n",
    "    'Flipper Length': (189.95, 195.82, 217.19),\n",
    "}\n",
    "\n",
    "x = np.arange(len(species))  # the label locations\n",
    "width = 0.25  # the width of the bars\n",
    "multiplier = 0\n",
    "\n",
    "fig, ax = plt.subplots(layout='constrained')\n",
    "\n",
    "for attribute, measurement in penguin_means.items():\n",
    "    offset = width * multiplier\n",
    "    rects = ax.bar(x + offset, measurement, width, label=attribute)\n",
    "    ax.bar_label(rects, padding=3)\n",
    "    multiplier += 1\n",
    "\n",
    "# Add some text for labels, title and custom x-axis tick labels, etc.\n",
    "ax.set_ylabel('Length (mm)')\n",
    "ax.set_title('Penguin attributes by species')\n",
    "ax.set_xticks(x + width, species)\n",
    "ax.legend(loc='upper left', ncols=3)\n",
    "ax.set_ylim(0, 250)\n",
    "\n",
    "plt.show()"
   ]
  },
  {
   "cell_type": "markdown",
   "metadata": {},
   "source": [
    "## Analysing the number of symbols"
   ]
  },
  {
   "cell_type": "code",
   "execution_count": null,
   "metadata": {},
   "outputs": [],
   "source": []
  }
 ],
 "metadata": {
  "kernelspec": {
   "display_name": "Python 3",
   "language": "python",
   "name": "python3"
  },
  "language_info": {
   "codemirror_mode": {
    "name": "ipython",
    "version": 3
   },
   "file_extension": ".py",
   "mimetype": "text/x-python",
   "name": "python",
   "nbconvert_exporter": "python",
   "pygments_lexer": "ipython3",
   "version": "3.11.6"
  }
 },
 "nbformat": 4,
 "nbformat_minor": 2
}
